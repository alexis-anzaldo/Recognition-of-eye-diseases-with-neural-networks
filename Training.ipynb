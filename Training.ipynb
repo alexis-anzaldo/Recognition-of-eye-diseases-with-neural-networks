{
  "nbformat": 4,
  "nbformat_minor": 0,
  "metadata": {
    "colab": {
      "provenance": []
    },
    "kernelspec": {
      "name": "python3",
      "display_name": "Python 3"
    },
    "accelerator": "GPU"
  },
  "cells": [
    {
      "cell_type": "code",
      "metadata": {
        "id": "9xTC2P7upUdp"
      },
      "source": [
        "import keras\n",
        "keras.__version__\n",
        "\n",
        "import tensorflow as tf\n",
        "import pandas as pd\n",
        "import os\n",
        "from PIL import Image\n",
        "import matplotlib.pyplot as plt\n",
        "import IPython.display as display\n",
        "import numpy as np\n",
        "import glob\n",
        "import random"
      ],
      "execution_count": null,
      "outputs": []
    },
    {
      "cell_type": "code",
      "metadata": {
        "id": "6ThDsAI6tDF0",
        "outputId": "82824a87-2e89-4a59-fe96-82c28a430f1f",
        "colab": {
          "base_uri": "https://localhost:8080/",
          "height": 34
        }
      },
      "source": [
        "from google.colab import drive\n",
        "drive.mount('/content/drive')"
      ],
      "execution_count": null,
      "outputs": [
        {
          "output_type": "stream",
          "text": [
            "Drive already mounted at /content/drive; to attempt to forcibly remount, call drive.mount(\"/content/drive\", force_remount=True).\n"
          ],
          "name": "stdout"
        }
      ]
    },
    {
      "cell_type": "markdown",
      "metadata": {
        "id": "P00IxHuxzOUW"
      },
      "source": [
        "# **Instructiona**\n",
        "\n",
        "\n",
        "*   Mount Drive\n",
        "*   Change the Training and Validation paths with the Working_Images and Working_Validation_Images folders\n",
        "*   Modify the classes to be evaluated choose between these letters **elegir entre estas letras ['N', 'D', 'G', 'C', 'A', 'H', 'M', 'O'] (For example, in In this case, the 8 classes will be evaluate)**\n"
      ]
    },
    {
      "cell_type": "code",
      "metadata": {
        "id": "Mig5lgGlsgcg"
      },
      "source": [
        "import os, shutil\n",
        "\n",
        "########################### EDIT #############################################\n",
        "\n",
        "# Paths\n",
        "Entrenamiento = \"/content/drive/My Drive/Taller DL/projecto dL/ODIR-5K/ODIR-5K/Working_Images\"\n",
        "Validacion = \"/content/drive/My Drive/Taller DL/projecto dL/ODIR-5K/ODIR-5K/Working_Validation_Images/\"\n",
        "\n",
        "# SELECT CLASSES\n",
        "CLASS_NAMES = ['N', 'D', 'G', 'C', 'A', 'H', 'M']\n",
        "\n",
        "#------------------- -EXAMPLES -----------------------------------------------\n",
        "#CLASS_NAMES = ['N', 'D', 'G', 'C', 'A', 'H', 'M', 'O']\n",
        "#CLASS_NAMES = ['N', 'C']\n",
        "################################################################################"
      ],
      "execution_count": null,
      "outputs": []
    },
    {
      "cell_type": "code",
      "metadata": {
        "id": "tlXLaFWM3ztH"
      },
      "source": [
        "# Funcion para obtener una lista de todos los paths\n",
        "\n",
        "def getListOfFiles(dirName):\n",
        "    # create a list of file and sub directories \n",
        "    # names in the given directory \n",
        "    listOfFile = os.listdir(dirName)\n",
        "    allFiles = list()\n",
        "    # Iterate over all the entries\n",
        "    for entry in listOfFile:\n",
        "        # Create full path\n",
        "        fullPath = os.path.join(dirName, entry)\n",
        "        # If entry is a directory then get the list of files in this directory \n",
        "        if os.path.isdir(fullPath):\n",
        "            allFiles = allFiles + getListOfFiles(fullPath)\n",
        "        else:\n",
        "            allFiles.append(fullPath)\n",
        "                \n",
        "    return allFiles"
      ],
      "execution_count": null,
      "outputs": []
    },
    {
      "cell_type": "markdown",
      "metadata": {
        "id": "ya6ODrpYykS0"
      },
      "source": [
        "A list of image paths is loaded for later consideration in training. This is done in order not to have to create a folder of training images for the different combinations of the classes."
      ]
    },
    {
      "cell_type": "code",
      "metadata": {
        "id": "VMC8dbLAyeIh"
      },
      "source": [
        "training_paths = getListOfFiles(Entrenamiento)\n",
        "validation_paths = getListOfFiles(Validacion)\n",
        "\n",
        "\n",
        "random.shuffle(training_paths)\n",
        "random.shuffle(validation_paths)"
      ],
      "execution_count": null,
      "outputs": []
    },
    {
      "cell_type": "code",
      "metadata": {
        "id": "abppsl-hysLV"
      },
      "source": [
        "def get_label(name):\n",
        "  parts = tf.strings.split(name, sep=\"-\")\n",
        "  label = tf.strings.split(parts[-1], sep=\".\")\n",
        "  label = tf.strings.bytes_split(label[0])\n",
        "  l = [0] * len(CLASS_NAMES)\n",
        "  flag = 0\n",
        "\n",
        "  for e in label:\n",
        "      if e != '&' and e != 'X':\n",
        "        try:\n",
        "          idx = CLASS_NAMES.index(e)\n",
        "        except ValueError:\n",
        "          flag = 1\n",
        "        else:\n",
        "          l[idx] = 1      \n",
        "  return l, flag"
      ],
      "execution_count": null,
      "outputs": []
    },
    {
      "cell_type": "code",
      "metadata": {
        "id": "XBYUyVUE2DVi"
      },
      "source": [
        "def get_name(file_path):\n",
        "  parts = tf.strings.split(file_path, os.path.sep)\n",
        "  return parts[-1]\n",
        "\n",
        "def decode_img(img):\n",
        "  img = tf.image.decode_jpeg(img, channels=3) #\n",
        "  img = tf.image.convert_image_dtype(img, tf.float32)\n",
        "  return img\n",
        "\n",
        "def process_path(file_path):\n",
        "  name = get_name(file_path)\n",
        "  label, flag = get_label(name)\n",
        "  img = tf.io.read_file(file_path)\n",
        "  img = decode_img(img)\n",
        "  return img, label, flag"
      ],
      "execution_count": null,
      "outputs": []
    },
    {
      "cell_type": "markdown",
      "metadata": {
        "id": "JnLzIb0HzTOQ"
      },
      "source": [
        "**ESTA PARTE TOMA BASTANTE TIEMPO**"
      ]
    },
    {
      "cell_type": "code",
      "metadata": {
        "id": "Dklhwb3xAfBf"
      },
      "source": [
        "X_train = []\n",
        "X_labels= []\n",
        "\n",
        "for i in range(7000):\n",
        "  img, labels, flag = process_path(training_paths[i])\n",
        "  if sum(labels) == 1 and (flag == 0):\n",
        "     X_train.append(img)\n",
        "     X_labels.append(labels)\n",
        "X_train = np.stack(X_train)\n",
        "X_labels = np.stack(X_labels)\n"
      ],
      "execution_count": null,
      "outputs": []
    },
    {
      "cell_type": "code",
      "metadata": {
        "id": "cOSirCrdzmIY"
      },
      "source": [
        "Y_train = []\n",
        "Y_labels= []\n",
        "\n",
        "for i in range(1500):\n",
        "  img, labels, flag = process_path(validation_paths[i])\n",
        "  if sum(labels) == 1 and (flag == 0): \n",
        "     Y_train.append(img)\n",
        "     Y_labels.append(labels)\n",
        "Y_train = np.stack(Y_train)\n",
        "Y_labels = np.stack(Y_labels)"
      ],
      "execution_count": null,
      "outputs": []
    },
    {
      "cell_type": "code",
      "metadata": {
        "id": "W38jhxx03pUI",
        "outputId": "4e0eefcd-851c-4eb7-a93d-7c1c8f871852",
        "colab": {
          "base_uri": "https://localhost:8080/",
          "height": 118
        }
      },
      "source": [
        "# Display training set and validation set information used in the network\n",
        "print(X_train.shape)\n",
        "print(X_labels.shape)\n",
        "print(Y_train.shape)\n",
        "print(Y_labels.shape)\n",
        "\n",
        "print('Total de imagenes para el entrenamiento: ', X_train.shape[0])\n",
        "print('Total de imagenes para la validacion: ', Y_train.shape[0])"
      ],
      "execution_count": null,
      "outputs": [
        {
          "output_type": "stream",
          "text": [
            "(6055, 250, 250, 3)\n",
            "(6055, 7)\n",
            "(1131, 250, 250, 3)\n",
            "(1131, 7)\n",
            "Total de imagenes para el entrenamiento:  6055\n",
            "Total de imagenes para la validacion:  1131\n"
          ],
          "name": "stdout"
        }
      ]
    },
    {
      "cell_type": "markdown",
      "metadata": {
        "id": "c5AksTaGxoHk"
      },
      "source": [
        "**Neural Network Model**"
      ]
    },
    {
      "cell_type": "code",
      "metadata": {
        "id": "o70kkmdh4u7J"
      },
      "source": [
        "from keras import layers\n",
        "from keras import models\n",
        "\n",
        "model = models.Sequential()"
      ],
      "execution_count": null,
      "outputs": []
    },
    {
      "cell_type": "code",
      "metadata": {
        "id": "VX-E7_uQ4x2F"
      },
      "source": [
        "model.add(layers.Conv2D(32, (3, 3), activation='relu',\n",
        "                        input_shape=(250, 250, 3)))\n",
        "model.add(layers.MaxPooling2D((2, 2)))\n",
        "model.add(layers.Conv2D(64, (3, 3), activation='relu'))\n",
        "model.add(layers.MaxPooling2D((2, 2)))\n",
        "model.add(layers.Conv2D(128, (3, 3), activation='relu'))\n",
        "model.add(layers.MaxPooling2D((2, 2)))\n",
        "model.add(layers.Conv2D(128, (3, 3), activation='relu'))\n",
        "model.add(layers.MaxPooling2D((2, 2)))"
      ],
      "execution_count": null,
      "outputs": []
    },
    {
      "cell_type": "code",
      "metadata": {
        "id": "rCuGB-MZ5SuV",
        "outputId": "fc44e169-fbd7-4190-ddb2-82208865a3cf",
        "colab": {
          "base_uri": "https://localhost:8080/",
          "height": 554
        }
      },
      "source": [
        "model.add(layers.Flatten())\n",
        "model.add(layers.Dropout(0.5))\n",
        "model.add(layers.Dense(512, activation='relu'))\n",
        "model.add(layers.Dense(len(CLASS_NAMES), activation='sigmoid'))\n",
        "\n",
        "model.summary()"
      ],
      "execution_count": null,
      "outputs": [
        {
          "output_type": "stream",
          "text": [
            "Model: \"sequential\"\n",
            "_________________________________________________________________\n",
            "Layer (type)                 Output Shape              Param #   \n",
            "=================================================================\n",
            "conv2d (Conv2D)              (None, 248, 248, 32)      896       \n",
            "_________________________________________________________________\n",
            "max_pooling2d (MaxPooling2D) (None, 124, 124, 32)      0         \n",
            "_________________________________________________________________\n",
            "conv2d_1 (Conv2D)            (None, 122, 122, 64)      18496     \n",
            "_________________________________________________________________\n",
            "max_pooling2d_1 (MaxPooling2 (None, 61, 61, 64)        0         \n",
            "_________________________________________________________________\n",
            "conv2d_2 (Conv2D)            (None, 59, 59, 128)       73856     \n",
            "_________________________________________________________________\n",
            "max_pooling2d_2 (MaxPooling2 (None, 29, 29, 128)       0         \n",
            "_________________________________________________________________\n",
            "conv2d_3 (Conv2D)            (None, 27, 27, 128)       147584    \n",
            "_________________________________________________________________\n",
            "max_pooling2d_3 (MaxPooling2 (None, 13, 13, 128)       0         \n",
            "_________________________________________________________________\n",
            "flatten (Flatten)            (None, 21632)             0         \n",
            "_________________________________________________________________\n",
            "dropout (Dropout)            (None, 21632)             0         \n",
            "_________________________________________________________________\n",
            "dense (Dense)                (None, 512)               11076096  \n",
            "_________________________________________________________________\n",
            "dense_1 (Dense)              (None, 7)                 3591      \n",
            "=================================================================\n",
            "Total params: 11,320,519\n",
            "Trainable params: 11,320,519\n",
            "Non-trainable params: 0\n",
            "_________________________________________________________________\n"
          ],
          "name": "stdout"
        }
      ]
    },
    {
      "cell_type": "code",
      "metadata": {
        "id": "9QMYofpa5sWn"
      },
      "source": [
        "from keras import optimizers\n",
        "\n",
        "history = model.compile(loss='categorical_crossentropy',\n",
        "              optimizer=optimizers.RMSprop(lr=1e-4),  \n",
        "              metrics=['acc', tf.keras.metrics.Precision(), tf.keras.metrics.Recall()])\n"
      ],
      "execution_count": null,
      "outputs": []
    },
    {
      "cell_type": "markdown",
      "metadata": {
        "id": "1OwutFhZ50LB"
      },
      "source": [
        "# **Training**"
      ]
    },
    {
      "cell_type": "code",
      "metadata": {
        "id": "sEjVtFdH5Vl7",
        "outputId": "0f3587b4-8d01-40c8-d444-7b77705c6697",
        "colab": {
          "base_uri": "https://localhost:8080/",
          "height": 1000
        }
      },
      "source": [
        "import time\n",
        "tic = time.time()\n",
        "\n",
        "history= model.fit(x = X_train, \n",
        "             y = X_labels,\n",
        "             validation_split = 0.10, \n",
        "             epochs = 100,\n",
        "             batch_size=64,\n",
        "             verbose=1)\n",
        "\n",
        "print('seconds=', time.time()-tic)"
      ],
      "execution_count": null,
      "outputs": [
        {
          "output_type": "stream",
          "text": [
            "Epoch 1/100\n",
            "86/86 [==============================] - 12s 136ms/step - loss: 1.7478 - acc: 0.3034 - precision: 0.2380 - recall: 0.3564 - val_loss: 1.6404 - val_acc: 0.3135 - val_precision: 0.3737 - val_recall: 0.1221\n",
            "Epoch 2/100\n",
            "86/86 [==============================] - 11s 127ms/step - loss: 1.4942 - acc: 0.4291 - precision: 0.7235 - recall: 0.0778 - val_loss: 1.5659 - val_acc: 0.4653 - val_precision: 0.8382 - val_recall: 0.0941\n",
            "Epoch 3/100\n",
            "86/86 [==============================] - 11s 128ms/step - loss: 1.3427 - acc: 0.4995 - precision: 0.8911 - recall: 0.0571 - val_loss: 2.2953 - val_acc: 0.2657 - val_precision: 0.3695 - val_recall: 0.1238\n",
            "Epoch 4/100\n",
            "86/86 [==============================] - 11s 128ms/step - loss: 1.2408 - acc: 0.5388 - precision: 0.9162 - recall: 0.0582 - val_loss: 1.2238 - val_acc: 0.5710 - val_precision: 1.0000 - val_recall: 0.0825\n",
            "Epoch 5/100\n",
            "86/86 [==============================] - 11s 128ms/step - loss: 1.1495 - acc: 0.5713 - precision: 0.9600 - recall: 0.0617 - val_loss: 1.2776 - val_acc: 0.4950 - val_precision: 0.9792 - val_recall: 0.0776\n",
            "Epoch 6/100\n",
            "86/86 [==============================] - 11s 129ms/step - loss: 1.0941 - acc: 0.5893 - precision: 0.9572 - recall: 0.0574 - val_loss: 1.1823 - val_acc: 0.5561 - val_precision: 1.0000 - val_recall: 0.1089\n",
            "Epoch 7/100\n",
            "86/86 [==============================] - 11s 129ms/step - loss: 1.0298 - acc: 0.6186 - precision: 0.9667 - recall: 0.0585 - val_loss: 1.1416 - val_acc: 0.5875 - val_precision: 1.0000 - val_recall: 0.1023\n",
            "Epoch 8/100\n",
            "86/86 [==============================] - 11s 132ms/step - loss: 0.9837 - acc: 0.6342 - precision: 0.9569 - recall: 0.0611 - val_loss: 0.9342 - val_acc: 0.6700 - val_precision: 1.0000 - val_recall: 0.0363\n",
            "Epoch 9/100\n",
            "86/86 [==============================] - 11s 130ms/step - loss: 0.9342 - acc: 0.6498 - precision: 0.9698 - recall: 0.0530 - val_loss: 1.1084 - val_acc: 0.5611 - val_precision: 1.0000 - val_recall: 0.0413\n",
            "Epoch 10/100\n",
            "86/86 [==============================] - 11s 129ms/step - loss: 0.8900 - acc: 0.6675 - precision: 0.9749 - recall: 0.0571 - val_loss: 0.9248 - val_acc: 0.6469 - val_precision: 1.0000 - val_recall: 0.0759\n",
            "Epoch 11/100\n",
            "86/86 [==============================] - 11s 128ms/step - loss: 0.8517 - acc: 0.6790 - precision: 0.9701 - recall: 0.0595 - val_loss: 0.9295 - val_acc: 0.6865 - val_precision: 1.0000 - val_recall: 0.0627\n",
            "Epoch 12/100\n",
            "86/86 [==============================] - 11s 130ms/step - loss: 0.8101 - acc: 0.7034 - precision: 0.9832 - recall: 0.0538 - val_loss: 0.8216 - val_acc: 0.6980 - val_precision: 1.0000 - val_recall: 0.0660\n",
            "Epoch 13/100\n",
            "86/86 [==============================] - 11s 130ms/step - loss: 0.7767 - acc: 0.7060 - precision: 0.9814 - recall: 0.0580 - val_loss: 1.3019 - val_acc: 0.5594 - val_precision: 1.0000 - val_recall: 0.0429\n",
            "Epoch 14/100\n",
            "86/86 [==============================] - 11s 129ms/step - loss: 0.7361 - acc: 0.7264 - precision: 0.9828 - recall: 0.0523 - val_loss: 0.9386 - val_acc: 0.6287 - val_precision: 1.0000 - val_recall: 0.0314\n",
            "Epoch 15/100\n",
            "86/86 [==============================] - 11s 129ms/step - loss: 0.7035 - acc: 0.7405 - precision: 0.9805 - recall: 0.0554 - val_loss: 0.8287 - val_acc: 0.6832 - val_precision: 0.9722 - val_recall: 0.0578\n",
            "Epoch 16/100\n",
            "86/86 [==============================] - 11s 129ms/step - loss: 0.6680 - acc: 0.7506 - precision: 0.9910 - recall: 0.0607 - val_loss: 1.1428 - val_acc: 0.5561 - val_precision: 1.0000 - val_recall: 0.0495\n",
            "Epoch 17/100\n",
            "86/86 [==============================] - 11s 129ms/step - loss: 0.6372 - acc: 0.7691 - precision: 0.9858 - recall: 0.0639 - val_loss: 0.9556 - val_acc: 0.6898 - val_precision: 1.0000 - val_recall: 0.0875\n",
            "Epoch 18/100\n",
            "86/86 [==============================] - 11s 128ms/step - loss: 0.6042 - acc: 0.7754 - precision: 0.9883 - recall: 0.0620 - val_loss: 0.6909 - val_acc: 0.7327 - val_precision: 1.0000 - val_recall: 0.0429\n",
            "Epoch 19/100\n",
            "86/86 [==============================] - 11s 131ms/step - loss: 0.5895 - acc: 0.7822 - precision: 0.9911 - recall: 0.0615 - val_loss: 0.8168 - val_acc: 0.6997 - val_precision: 1.0000 - val_recall: 0.0842\n",
            "Epoch 20/100\n",
            "86/86 [==============================] - 11s 130ms/step - loss: 0.5529 - acc: 0.7981 - precision: 0.9915 - recall: 0.0640 - val_loss: 0.9604 - val_acc: 0.6782 - val_precision: 1.0000 - val_recall: 0.0495\n",
            "Epoch 21/100\n",
            "86/86 [==============================] - 11s 129ms/step - loss: 0.5359 - acc: 0.8044 - precision: 0.9913 - recall: 0.0624 - val_loss: 0.7658 - val_acc: 0.7228 - val_precision: 1.0000 - val_recall: 0.0528\n",
            "Epoch 22/100\n",
            "86/86 [==============================] - 11s 128ms/step - loss: 0.5053 - acc: 0.8115 - precision: 0.9917 - recall: 0.0659 - val_loss: 0.7979 - val_acc: 0.7294 - val_precision: 1.0000 - val_recall: 0.0759\n",
            "Epoch 23/100\n",
            "86/86 [==============================] - 11s 130ms/step - loss: 0.4762 - acc: 0.8271 - precision: 0.9945 - recall: 0.0668 - val_loss: 1.1450 - val_acc: 0.5842 - val_precision: 0.9804 - val_recall: 0.0825\n",
            "Epoch 24/100\n",
            "86/86 [==============================] - 11s 130ms/step - loss: 0.4721 - acc: 0.8247 - precision: 0.9919 - recall: 0.0672 - val_loss: 0.8828 - val_acc: 0.6634 - val_precision: 1.0000 - val_recall: 0.0594\n",
            "Epoch 25/100\n",
            "86/86 [==============================] - 11s 130ms/step - loss: 0.4409 - acc: 0.8359 - precision: 0.9971 - recall: 0.0626 - val_loss: 0.6872 - val_acc: 0.7475 - val_precision: 1.0000 - val_recall: 0.0710\n",
            "Epoch 26/100\n",
            "86/86 [==============================] - 11s 129ms/step - loss: 0.4151 - acc: 0.8501 - precision: 0.9950 - recall: 0.0738 - val_loss: 0.8006 - val_acc: 0.7178 - val_precision: 1.0000 - val_recall: 0.0446\n",
            "Epoch 27/100\n",
            "86/86 [==============================] - 11s 129ms/step - loss: 0.4027 - acc: 0.8515 - precision: 1.0000 - recall: 0.0743 - val_loss: 0.9116 - val_acc: 0.6832 - val_precision: 1.0000 - val_recall: 0.0512\n",
            "Epoch 28/100\n",
            "86/86 [==============================] - 11s 129ms/step - loss: 0.3833 - acc: 0.8539 - precision: 1.0000 - recall: 0.0677 - val_loss: 0.5741 - val_acc: 0.7772 - val_precision: 1.0000 - val_recall: 0.0825\n",
            "Epoch 29/100\n",
            "86/86 [==============================] - 11s 129ms/step - loss: 0.3639 - acc: 0.8679 - precision: 0.9978 - recall: 0.0818 - val_loss: 0.6431 - val_acc: 0.7706 - val_precision: 1.0000 - val_recall: 0.0842\n",
            "Epoch 30/100\n",
            "86/86 [==============================] - 11s 129ms/step - loss: 0.3520 - acc: 0.8704 - precision: 1.0000 - recall: 0.0760 - val_loss: 0.6979 - val_acc: 0.7442 - val_precision: 1.0000 - val_recall: 0.1122\n",
            "Epoch 31/100\n",
            "86/86 [==============================] - 11s 129ms/step - loss: 0.3283 - acc: 0.8774 - precision: 1.0000 - recall: 0.0747 - val_loss: 0.5373 - val_acc: 0.8003 - val_precision: 1.0000 - val_recall: 0.0627\n",
            "Epoch 32/100\n",
            "86/86 [==============================] - 11s 130ms/step - loss: 0.3175 - acc: 0.8816 - precision: 0.9978 - recall: 0.0835 - val_loss: 0.6390 - val_acc: 0.7937 - val_precision: 0.9855 - val_recall: 0.1122\n",
            "Epoch 33/100\n",
            "86/86 [==============================] - 11s 129ms/step - loss: 0.2959 - acc: 0.8915 - precision: 0.9977 - recall: 0.0807 - val_loss: 0.6918 - val_acc: 0.7475 - val_precision: 1.0000 - val_recall: 0.0957\n",
            "Epoch 34/100\n",
            "86/86 [==============================] - 11s 129ms/step - loss: 0.2963 - acc: 0.8903 - precision: 0.9977 - recall: 0.0813 - val_loss: 0.6548 - val_acc: 0.7541 - val_precision: 0.9783 - val_recall: 0.0743\n",
            "Epoch 35/100\n",
            "86/86 [==============================] - 11s 129ms/step - loss: 0.2745 - acc: 0.9007 - precision: 1.0000 - recall: 0.0809 - val_loss: 1.1099 - val_acc: 0.6469 - val_precision: 0.9255 - val_recall: 0.1436\n",
            "Epoch 36/100\n",
            "86/86 [==============================] - 11s 130ms/step - loss: 0.2539 - acc: 0.9066 - precision: 0.9979 - recall: 0.0853 - val_loss: 0.6983 - val_acc: 0.7624 - val_precision: 0.9877 - val_recall: 0.1320\n",
            "Epoch 37/100\n",
            "86/86 [==============================] - 11s 129ms/step - loss: 0.2353 - acc: 0.9137 - precision: 1.0000 - recall: 0.0868 - val_loss: 0.9097 - val_acc: 0.7343 - val_precision: 1.0000 - val_recall: 0.0743\n",
            "Epoch 38/100\n",
            "86/86 [==============================] - 11s 130ms/step - loss: 0.2454 - acc: 0.9104 - precision: 1.0000 - recall: 0.0864 - val_loss: 0.7457 - val_acc: 0.7360 - val_precision: 1.0000 - val_recall: 0.0594\n",
            "Epoch 39/100\n",
            "86/86 [==============================] - 11s 129ms/step - loss: 0.2230 - acc: 0.9218 - precision: 1.0000 - recall: 0.0868 - val_loss: 0.5585 - val_acc: 0.7970 - val_precision: 1.0000 - val_recall: 0.0660\n",
            "Epoch 40/100\n",
            "86/86 [==============================] - 11s 130ms/step - loss: 0.2115 - acc: 0.9240 - precision: 1.0000 - recall: 0.0896 - val_loss: 0.4757 - val_acc: 0.8218 - val_precision: 1.0000 - val_recall: 0.0759\n",
            "Epoch 41/100\n",
            "86/86 [==============================] - 11s 130ms/step - loss: 0.1950 - acc: 0.9288 - precision: 1.0000 - recall: 0.0844 - val_loss: 0.7988 - val_acc: 0.7541 - val_precision: 1.0000 - val_recall: 0.0644\n",
            "Epoch 42/100\n",
            "86/86 [==============================] - 11s 130ms/step - loss: 0.1907 - acc: 0.9284 - precision: 1.0000 - recall: 0.0936 - val_loss: 0.6964 - val_acc: 0.7624 - val_precision: 0.9865 - val_recall: 0.1205\n",
            "Epoch 43/100\n",
            "86/86 [==============================] - 11s 130ms/step - loss: 0.1900 - acc: 0.9332 - precision: 0.9981 - recall: 0.0960 - val_loss: 0.6923 - val_acc: 0.7624 - val_precision: 0.9868 - val_recall: 0.1238\n",
            "Epoch 44/100\n",
            "86/86 [==============================] - 11s 129ms/step - loss: 0.1607 - acc: 0.9420 - precision: 0.9979 - recall: 0.0892 - val_loss: 0.5495 - val_acc: 0.8251 - val_precision: 1.0000 - val_recall: 0.0578\n",
            "Epoch 45/100\n",
            "86/86 [==============================] - 11s 129ms/step - loss: 0.1624 - acc: 0.9409 - precision: 0.9980 - recall: 0.0923 - val_loss: 0.5299 - val_acc: 0.8069 - val_precision: 0.9875 - val_recall: 0.1304\n",
            "Epoch 46/100\n",
            "86/86 [==============================] - 11s 130ms/step - loss: 0.1524 - acc: 0.9459 - precision: 1.0000 - recall: 0.0956 - val_loss: 0.7967 - val_acc: 0.7772 - val_precision: 0.9899 - val_recall: 0.1617\n",
            "Epoch 47/100\n",
            "86/86 [==============================] - 11s 130ms/step - loss: 0.1436 - acc: 0.9486 - precision: 1.0000 - recall: 0.0958 - val_loss: 0.5061 - val_acc: 0.8300 - val_precision: 1.0000 - val_recall: 0.0974\n",
            "Epoch 48/100\n",
            "86/86 [==============================] - 11s 129ms/step - loss: 0.1477 - acc: 0.9504 - precision: 1.0000 - recall: 0.1226 - val_loss: 0.5544 - val_acc: 0.8020 - val_precision: 0.9880 - val_recall: 0.1353\n",
            "Epoch 49/100\n",
            "86/86 [==============================] - 11s 129ms/step - loss: 0.1343 - acc: 0.9552 - precision: 0.9983 - recall: 0.1110 - val_loss: 0.6096 - val_acc: 0.8168 - val_precision: 0.9868 - val_recall: 0.1238\n",
            "Epoch 50/100\n",
            "86/86 [==============================] - 11s 129ms/step - loss: 0.1226 - acc: 0.9604 - precision: 0.9985 - recall: 0.1202 - val_loss: 0.9021 - val_acc: 0.7459 - val_precision: 0.9756 - val_recall: 0.0660\n",
            "Epoch 51/100\n",
            "86/86 [==============================] - 11s 129ms/step - loss: 0.1244 - acc: 0.9550 - precision: 1.0000 - recall: 0.1112 - val_loss: 0.6869 - val_acc: 0.7888 - val_precision: 0.9841 - val_recall: 0.1023\n",
            "Epoch 52/100\n",
            "86/86 [==============================] - 11s 130ms/step - loss: 0.1082 - acc: 0.9602 - precision: 1.0000 - recall: 0.1064 - val_loss: 0.5762 - val_acc: 0.8168 - val_precision: 1.0000 - val_recall: 0.1007\n",
            "Epoch 53/100\n",
            "86/86 [==============================] - 11s 129ms/step - loss: 0.1141 - acc: 0.9582 - precision: 1.0000 - recall: 0.1187 - val_loss: 0.5842 - val_acc: 0.8201 - val_precision: 0.9792 - val_recall: 0.0776\n",
            "Epoch 54/100\n",
            "86/86 [==============================] - 11s 130ms/step - loss: 0.1112 - acc: 0.9618 - precision: 1.0000 - recall: 0.1116 - val_loss: 0.6310 - val_acc: 0.8020 - val_precision: 0.9839 - val_recall: 0.1007\n",
            "Epoch 55/100\n",
            "86/86 [==============================] - 11s 131ms/step - loss: 0.0956 - acc: 0.9642 - precision: 1.0000 - recall: 0.1116 - val_loss: 0.5595 - val_acc: 0.8234 - val_precision: 0.9839 - val_recall: 0.1007\n",
            "Epoch 56/100\n",
            "86/86 [==============================] - 11s 129ms/step - loss: 0.0829 - acc: 0.9717 - precision: 0.9984 - recall: 0.1147 - val_loss: 0.5413 - val_acc: 0.8284 - val_precision: 0.9821 - val_recall: 0.0908\n",
            "Epoch 57/100\n",
            "86/86 [==============================] - 11s 129ms/step - loss: 0.0910 - acc: 0.9684 - precision: 1.0000 - recall: 0.1156 - val_loss: 0.6230 - val_acc: 0.8168 - val_precision: 1.0000 - val_recall: 0.1485\n",
            "Epoch 58/100\n",
            "86/86 [==============================] - 11s 130ms/step - loss: 0.0790 - acc: 0.9727 - precision: 1.0000 - recall: 0.1233 - val_loss: 0.5666 - val_acc: 0.8135 - val_precision: 0.9831 - val_recall: 0.0957\n",
            "Epoch 59/100\n",
            "86/86 [==============================] - 11s 128ms/step - loss: 0.0736 - acc: 0.9750 - precision: 1.0000 - recall: 0.1173 - val_loss: 0.6480 - val_acc: 0.8003 - val_precision: 1.0000 - val_recall: 0.1139\n",
            "Epoch 60/100\n",
            "86/86 [==============================] - 11s 130ms/step - loss: 0.0721 - acc: 0.9765 - precision: 1.0000 - recall: 0.1297 - val_loss: 0.5468 - val_acc: 0.8201 - val_precision: 1.0000 - val_recall: 0.0908\n",
            "Epoch 61/100\n",
            "86/86 [==============================] - 11s 129ms/step - loss: 0.0739 - acc: 0.9732 - precision: 1.0000 - recall: 0.1253 - val_loss: 0.6308 - val_acc: 0.8218 - val_precision: 1.0000 - val_recall: 0.0990\n",
            "Epoch 62/100\n",
            "86/86 [==============================] - 11s 129ms/step - loss: 0.0717 - acc: 0.9765 - precision: 0.9986 - recall: 0.1299 - val_loss: 0.6731 - val_acc: 0.8185 - val_precision: 0.9885 - val_recall: 0.1419\n",
            "Epoch 63/100\n",
            "86/86 [==============================] - 11s 130ms/step - loss: 0.0719 - acc: 0.9761 - precision: 1.0000 - recall: 0.1349 - val_loss: 0.5383 - val_acc: 0.8284 - val_precision: 0.9867 - val_recall: 0.1221\n",
            "Epoch 64/100\n",
            "86/86 [==============================] - 11s 129ms/step - loss: 0.0537 - acc: 0.9835 - precision: 0.9985 - recall: 0.1202 - val_loss: 0.6089 - val_acc: 0.8267 - val_precision: 0.9865 - val_recall: 0.1205\n",
            "Epoch 65/100\n",
            "86/86 [==============================] - 11s 130ms/step - loss: 0.0640 - acc: 0.9793 - precision: 0.9986 - recall: 0.1327 - val_loss: 0.6606 - val_acc: 0.8185 - val_precision: 0.9857 - val_recall: 0.1139\n",
            "Epoch 66/100\n",
            "86/86 [==============================] - 11s 129ms/step - loss: 0.0565 - acc: 0.9805 - precision: 0.9985 - recall: 0.1215 - val_loss: 0.5821 - val_acc: 0.8432 - val_precision: 0.9863 - val_recall: 0.1188\n",
            "Epoch 67/100\n",
            "86/86 [==============================] - 11s 128ms/step - loss: 0.0488 - acc: 0.9853 - precision: 1.0000 - recall: 0.1380 - val_loss: 0.7760 - val_acc: 0.8185 - val_precision: 1.0000 - val_recall: 0.1106\n",
            "Epoch 68/100\n",
            "86/86 [==============================] - 11s 129ms/step - loss: 0.0606 - acc: 0.9785 - precision: 1.0000 - recall: 0.1325 - val_loss: 0.6425 - val_acc: 0.8234 - val_precision: 0.9853 - val_recall: 0.1106\n",
            "Epoch 69/100\n",
            "86/86 [==============================] - 11s 130ms/step - loss: 0.0479 - acc: 0.9831 - precision: 1.0000 - recall: 0.1235 - val_loss: 0.6395 - val_acc: 0.8366 - val_precision: 1.0000 - val_recall: 0.1353\n",
            "Epoch 70/100\n",
            "86/86 [==============================] - 11s 130ms/step - loss: 0.0535 - acc: 0.9820 - precision: 1.0000 - recall: 0.1292 - val_loss: 0.6758 - val_acc: 0.8102 - val_precision: 0.9870 - val_recall: 0.1254\n",
            "Epoch 71/100\n",
            "86/86 [==============================] - 11s 130ms/step - loss: 0.0466 - acc: 0.9859 - precision: 1.0000 - recall: 0.1444 - val_loss: 0.7325 - val_acc: 0.8036 - val_precision: 1.0000 - val_recall: 0.1436\n",
            "Epoch 72/100\n",
            "86/86 [==============================] - 11s 129ms/step - loss: 0.0396 - acc: 0.9883 - precision: 1.0000 - recall: 0.1365 - val_loss: 0.6222 - val_acc: 0.8366 - val_precision: 1.0000 - val_recall: 0.1122\n",
            "Epoch 73/100\n",
            "86/86 [==============================] - 11s 129ms/step - loss: 0.0463 - acc: 0.9844 - precision: 0.9987 - recall: 0.1373 - val_loss: 0.6781 - val_acc: 0.8251 - val_precision: 0.9895 - val_recall: 0.1551\n",
            "Epoch 74/100\n",
            "86/86 [==============================] - 11s 130ms/step - loss: 0.0383 - acc: 0.9875 - precision: 1.0000 - recall: 0.1459 - val_loss: 0.7770 - val_acc: 0.8366 - val_precision: 0.9865 - val_recall: 0.1205\n",
            "Epoch 75/100\n",
            "86/86 [==============================] - 11s 130ms/step - loss: 0.0395 - acc: 0.9877 - precision: 0.9987 - recall: 0.1398 - val_loss: 0.6055 - val_acc: 0.8333 - val_precision: 1.0000 - val_recall: 0.1023\n",
            "Epoch 76/100\n",
            "86/86 [==============================] - 11s 129ms/step - loss: 0.0388 - acc: 0.9884 - precision: 1.0000 - recall: 0.1208 - val_loss: 0.7527 - val_acc: 0.8234 - val_precision: 0.9865 - val_recall: 0.1205\n",
            "Epoch 77/100\n",
            "86/86 [==============================] - 11s 129ms/step - loss: 0.0331 - acc: 0.9901 - precision: 1.0000 - recall: 0.1387 - val_loss: 0.6532 - val_acc: 0.8300 - val_precision: 0.9865 - val_recall: 0.1205\n",
            "Epoch 78/100\n",
            "86/86 [==============================] - 11s 129ms/step - loss: 0.0363 - acc: 0.9888 - precision: 1.0000 - recall: 0.1358 - val_loss: 0.6548 - val_acc: 0.8465 - val_precision: 0.9886 - val_recall: 0.1436\n",
            "Epoch 79/100\n",
            "86/86 [==============================] - 11s 128ms/step - loss: 0.0313 - acc: 0.9927 - precision: 1.0000 - recall: 0.1420 - val_loss: 0.8034 - val_acc: 0.8201 - val_precision: 0.9908 - val_recall: 0.1782\n",
            "Epoch 80/100\n",
            "86/86 [==============================] - 11s 129ms/step - loss: 0.0367 - acc: 0.9890 - precision: 1.0000 - recall: 0.1439 - val_loss: 0.7428 - val_acc: 0.8317 - val_precision: 0.9884 - val_recall: 0.1403\n",
            "Epoch 81/100\n",
            "86/86 [==============================] - 11s 130ms/step - loss: 0.0302 - acc: 0.9908 - precision: 1.0000 - recall: 0.1492 - val_loss: 0.6224 - val_acc: 0.8350 - val_precision: 0.9839 - val_recall: 0.1007\n",
            "Epoch 82/100\n",
            "86/86 [==============================] - 11s 129ms/step - loss: 0.0321 - acc: 0.9897 - precision: 1.0000 - recall: 0.1452 - val_loss: 0.7116 - val_acc: 0.8135 - val_precision: 1.0000 - val_recall: 0.0809\n",
            "Epoch 83/100\n",
            "86/86 [==============================] - 11s 128ms/step - loss: 0.0290 - acc: 0.9921 - precision: 1.0000 - recall: 0.1340 - val_loss: 0.7131 - val_acc: 0.8102 - val_precision: 0.9844 - val_recall: 0.1040\n",
            "Epoch 84/100\n",
            "86/86 [==============================] - 11s 129ms/step - loss: 0.0298 - acc: 0.9910 - precision: 1.0000 - recall: 0.1461 - val_loss: 0.7303 - val_acc: 0.8366 - val_precision: 0.9875 - val_recall: 0.1304\n",
            "Epoch 85/100\n",
            "86/86 [==============================] - 11s 129ms/step - loss: 0.0269 - acc: 0.9901 - precision: 1.0000 - recall: 0.1433 - val_loss: 0.7401 - val_acc: 0.8300 - val_precision: 0.9867 - val_recall: 0.1221\n",
            "Epoch 86/100\n",
            "86/86 [==============================] - 11s 129ms/step - loss: 0.0279 - acc: 0.9914 - precision: 1.0000 - recall: 0.1648 - val_loss: 0.8077 - val_acc: 0.8086 - val_precision: 0.9888 - val_recall: 0.1452\n",
            "Epoch 87/100\n",
            "86/86 [==============================] - 11s 128ms/step - loss: 0.0178 - acc: 0.9958 - precision: 1.0000 - recall: 0.1474 - val_loss: 0.7097 - val_acc: 0.8218 - val_precision: 0.9863 - val_recall: 0.1188\n",
            "Epoch 88/100\n",
            "86/86 [==============================] - 11s 128ms/step - loss: 0.0303 - acc: 0.9903 - precision: 0.9988 - recall: 0.1514 - val_loss: 0.7255 - val_acc: 0.8350 - val_precision: 0.9880 - val_recall: 0.1353\n",
            "Epoch 89/100\n",
            "86/86 [==============================] - 11s 130ms/step - loss: 0.0227 - acc: 0.9928 - precision: 1.0000 - recall: 0.1512 - val_loss: 0.8168 - val_acc: 0.8185 - val_precision: 0.9865 - val_recall: 0.1205\n",
            "Epoch 90/100\n",
            "86/86 [==============================] - 11s 130ms/step - loss: 0.0285 - acc: 0.9895 - precision: 1.0000 - recall: 0.1571 - val_loss: 0.8783 - val_acc: 0.8135 - val_precision: 0.9880 - val_recall: 0.1353\n",
            "Epoch 91/100\n",
            "86/86 [==============================] - 11s 129ms/step - loss: 0.0259 - acc: 0.9912 - precision: 1.0000 - recall: 0.1464 - val_loss: 0.7922 - val_acc: 0.8317 - val_precision: 1.0000 - val_recall: 0.1238\n",
            "Epoch 92/100\n",
            "86/86 [==============================] - 11s 130ms/step - loss: 0.0177 - acc: 0.9947 - precision: 1.0000 - recall: 0.1615 - val_loss: 0.7557 - val_acc: 0.8333 - val_precision: 0.9890 - val_recall: 0.1485\n",
            "Epoch 93/100\n",
            "86/86 [==============================] - 11s 129ms/step - loss: 0.0175 - acc: 0.9954 - precision: 1.0000 - recall: 0.1411 - val_loss: 0.6904 - val_acc: 0.8284 - val_precision: 0.9867 - val_recall: 0.1221\n",
            "Epoch 94/100\n",
            "86/86 [==============================] - 11s 130ms/step - loss: 0.0274 - acc: 0.9903 - precision: 1.0000 - recall: 0.1512 - val_loss: 0.7069 - val_acc: 0.8267 - val_precision: 0.9881 - val_recall: 0.1370\n",
            "Epoch 95/100\n",
            "86/86 [==============================] - 11s 129ms/step - loss: 0.0217 - acc: 0.9921 - precision: 1.0000 - recall: 0.1631 - val_loss: 0.9754 - val_acc: 0.8086 - val_precision: 0.9775 - val_recall: 0.1436\n",
            "Epoch 96/100\n",
            "86/86 [==============================] - 11s 130ms/step - loss: 0.0208 - acc: 0.9936 - precision: 1.0000 - recall: 0.1554 - val_loss: 0.8328 - val_acc: 0.8185 - val_precision: 0.9875 - val_recall: 0.1304\n",
            "Epoch 97/100\n",
            "86/86 [==============================] - 11s 129ms/step - loss: 0.0168 - acc: 0.9943 - precision: 1.0000 - recall: 0.1450 - val_loss: 0.8254 - val_acc: 0.8317 - val_precision: 0.9867 - val_recall: 0.1221\n",
            "Epoch 98/100\n",
            "86/86 [==============================] - 11s 129ms/step - loss: 0.0169 - acc: 0.9943 - precision: 1.0000 - recall: 0.1441 - val_loss: 1.0258 - val_acc: 0.8234 - val_precision: 0.9851 - val_recall: 0.1089\n",
            "Epoch 99/100\n",
            "86/86 [==============================] - 11s 129ms/step - loss: 0.0171 - acc: 0.9952 - precision: 1.0000 - recall: 0.1628 - val_loss: 0.7762 - val_acc: 0.8284 - val_precision: 0.9913 - val_recall: 0.1881\n",
            "Epoch 100/100\n",
            "86/86 [==============================] - 11s 130ms/step - loss: 0.0186 - acc: 0.9934 - precision: 1.0000 - recall: 0.1696 - val_loss: 0.7710 - val_acc: 0.8267 - val_precision: 1.0000 - val_recall: 0.1370\n",
            "seconds= 1130.5699906349182\n"
          ],
          "name": "stdout"
        }
      ]
    },
    {
      "cell_type": "markdown",
      "metadata": {
        "id": "d5YY28xz9icq"
      },
      "source": [
        "**Graphs**"
      ]
    },
    {
      "cell_type": "code",
      "metadata": {
        "id": "rqaecIsh6Jbg",
        "outputId": "cda66f7d-f531-4844-e182-a72666a5352c",
        "colab": {
          "base_uri": "https://localhost:8080/",
          "height": 783
        }
      },
      "source": [
        "%matplotlib inline\n",
        "\n",
        "import matplotlib.pyplot as plt\n",
        "\n",
        "acc4 = history.history['acc']\n",
        "val_acc4 = history.history['val_acc']\n",
        "loss4 = history.history['loss']\n",
        "val_loss4 = history.history['val_loss']\n",
        "\n",
        "epochs = range(len(acc4))\n",
        "\n",
        "plt.figure(figsize=(8,12))\n",
        "\n",
        "plt.subplot(211)\n",
        "plt.plot(epochs, acc4, 'bo', label='Training acc')\n",
        "plt.plot(epochs, val_acc4, 'b', label='Validation acc')\n",
        "plt.title('Training and validation accuracy')\n",
        "plt.legend()\n",
        "\n",
        "\n",
        "plt.subplot(212)\n",
        "plt.plot(epochs, loss4, 'bo', label='Training loss')\n",
        "plt.plot(epochs, val_loss4, 'b', label='Validation loss')\n",
        "plt.title('Training and validation loss')\n",
        "plt.legend()\n",
        "\n",
        "plt.savefig('convnet_aug_p200epch.eps')\n",
        "plt.show()"
      ],
      "execution_count": null,
      "outputs": [
        {
          "output_type": "stream",
          "text": [
            "The PostScript backend does not support transparency; partially transparent artists will be rendered opaque.\n",
            "The PostScript backend does not support transparency; partially transparent artists will be rendered opaque.\n",
            "The PostScript backend does not support transparency; partially transparent artists will be rendered opaque.\n",
            "The PostScript backend does not support transparency; partially transparent artists will be rendered opaque.\n"
          ],
          "name": "stderr"
        },
        {
          "output_type": "display_data",
          "data": {
            "image/png": "[encoded data removed]",
            "text/plain": [
              "<Figure size 576x864 with 2 Axes>"
            ]
          },
          "metadata": {
            "tags": [],
            "needs_background": "light"
          }
        }
      ]
    },
    {
      "cell_type": "markdown",
      "metadata": {
        "id": "FBZz4QPH7O-D"
      },
      "source": [
        "**Matriz de confusion**"
      ]
    },
    {
      "cell_type": "code",
      "metadata": {
        "id": "d_MrRG0f62yF"
      },
      "source": [
        "import numpy as np\n",
        "\n",
        "test_predicted_labels = model.predict(Y_train)\n",
        "test_true_labels      = np.argmax(Y_labels,axis=-1)\n",
        "test_predicted_labels = np.argmax(test_predicted_labels,axis=1)"
      ],
      "execution_count": null,
      "outputs": []
    },
    {
      "cell_type": "code",
      "metadata": {
        "id": "6N8Nbo057Evd",
        "outputId": "a08caa3f-c85f-42e5-ef36-faf964da41e1",
        "colab": {
          "base_uri": "https://localhost:8080/",
          "height": 553
        }
      },
      "source": [
        "%matplotlib inline\n",
        "import matplotlib.pyplot as plt\n",
        "\n",
        "from sklearn.metrics import confusion_matrix, precision_score, recall_score \n",
        "from sklearn.metrics import f1_score, cohen_kappa_score\n",
        "import seaborn as sns \n",
        "\n",
        "\n",
        "labels = CLASS_NAMES\n",
        "C = confusion_matrix(test_true_labels, test_predicted_labels)\n",
        "\n",
        "f, ax = plt.subplots(figsize=(11, 9))\n",
        "sns.set()\n",
        "cmap = sns.diverging_palette(220, 8, as_cmap=True)\n",
        "ax = sns.heatmap(C, cmap=cmap, square=True,\n",
        "                 annot=True, fmt='d', linewidths=.5)\n",
        "ax.set_title('Matriz de Confusión')\n",
        "ax.set_xticklabels(labels)\n",
        "ax.set_yticklabels(labels)\n",
        "plt.show()"
      ],
      "execution_count": null,
      "outputs": [
        {
          "output_type": "display_data",
          "data": {
            "image/png": "[encoded data removed]",
            "text/plain": [
              "<Figure size 792x648 with 2 Axes>"
            ]
          },
          "metadata": {
            "tags": [],
            "needs_background": "light"
          }
        }
      ]
    }
  ]
}